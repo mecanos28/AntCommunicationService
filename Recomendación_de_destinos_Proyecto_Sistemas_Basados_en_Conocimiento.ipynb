{
  "nbformat": 4,
  "nbformat_minor": 0,
  "metadata": {
    "colab": {
      "provenance": [],
      "history_visible": true,
      "authorship_tag": "ABX9TyOl1VAtr/ZoNdtpa4FH6K0R",
      "include_colab_link": true
    },
    "kernelspec": {
      "name": "python3",
      "display_name": "Python 3"
    },
    "language_info": {
      "name": "python"
    }
  },
  "cells": [
    {
      "cell_type": "markdown",
      "metadata": {
        "id": "view-in-github",
        "colab_type": "text"
      },
      "source": [
        "<a href=\"https://colab.research.google.com/github/mecanos28/AntCommunicationService/blob/main/Recomendaci%C3%B3n_de_destinos_Proyecto_Sistemas_Basados_en_Conocimiento.ipynb\" target=\"_parent\"><img src=\"https://colab.research.google.com/assets/colab-badge.svg\" alt=\"Open In Colab\"/></a>"
      ]
    },
    {
      "cell_type": "markdown",
      "source": [
        "# Sistema Basado en Conocimientos para Planificación de Vacaciones\n",
        "\n",
        "Hellen Aguilar Noguera\n",
        "\n",
        "José Leonardo Araya Parajeles\n",
        "\n",
        "Fernando Rojas Meléndez\n",
        "\n",
        "Alejandro Villalobos Hernández\n",
        "\n",
        "*Universidad CENFOTEC*\n",
        "\n"
      ],
      "metadata": {
        "id": "mR1GFspUnoEk"
      }
    },
    {
      "cell_type": "markdown",
      "source": [
        "Limpieza de datos\n",
        "===========================\n",
        "Primero limpiamos y cambiamos el data set para que tenga más sentido para lo que queremos. El data set inicial es sobre detalles de viajes. Vamos a tomarlo como base para crear una base de datos de destinos y presupuestos para recomendaciones\n",
        "\n"
      ],
      "metadata": {
        "id": "-ExqaU6MZF3F"
      }
    },
    {
      "cell_type": "code",
      "source": [
        "import pandas as pd\n",
        "import re\n",
        "\n",
        "# Función para limpiar valores de costo eliminando caracteres no numéricos y convirtiendo a float\n",
        "def clean_cost(cost):\n",
        "    if pd.isna(cost):\n",
        "        return None\n",
        "    cleaned = re.sub(r'[^\\d.]', '', str(cost))  # Elimina caracteres no numéricos excepto el punto decimal\n",
        "    try:\n",
        "        return float(cleaned)\n",
        "    except ValueError:\n",
        "        return None\n",
        "\n",
        "# Cargar el conjunto de datos original (reemplaza 'tu_archivo.csv' con la ruta real del archivo)\n",
        "df = pd.read_csv('Travel details dataset.csv')\n",
        "\n",
        "# Limpiar las columnas de costos\n",
        "df['Accommodation cost'] = df['Accommodation cost'].apply(clean_cost)\n",
        "df['Transportation cost'] = df['Transportation cost'].apply(clean_cost)\n",
        "\n",
        "# Extraer el mes de la columna Start date\n",
        "df['Month'] = pd.to_datetime(df['Start date']).dt.month\n",
        "\n",
        "# Estandarizar el tipo de transporte\n",
        "df['Transportation type'] = df['Transportation type'].str.lower().str.strip()\n",
        "df['Transportation type'] = df['Transportation type'].replace({'plane': 'flight', 'airplane': 'flight'})\n",
        "\n",
        "# Filtrar solo los viajes con transporte en avión\n",
        "df = df[df['Transportation type'] == 'flight']\n",
        "\n",
        "# Eliminar filas con valores faltantes en columnas esenciales\n",
        "essential_columns = [\n",
        "    'Destination', 'Month', 'Duration (days)', 'Traveler gender',\n",
        "    'Traveler nationality', 'Accommodation type', 'Accommodation cost',\n",
        "    'Transportation cost'\n",
        "]\n",
        "df = df.dropna(subset=essential_columns)\n",
        "\n",
        "# Seleccionar columnas relevantes para el nuevo conjunto de datos\n",
        "new_dataset = df[[\n",
        "    'Destination', 'Month', 'Duration (days)', 'Traveler gender',\n",
        "    'Traveler nationality', 'Accommodation type', 'Accommodation cost',\n",
        "    'Transportation cost'\n",
        "]]\n",
        "\n",
        "# Guardar el nuevo conjunto de datos en un archivo CSV\n",
        "new_dataset.to_csv('cleaned_travel_dataset.csv', index=False)\n",
        "\n",
        "# Mostrar las primeras filas para verificar\n",
        "print(new_dataset.head())\n",
        "\n"
      ],
      "metadata": {
        "colab": {
          "base_uri": "https://localhost:8080/"
        },
        "id": "EtvGbaPIZYaM",
        "outputId": "9476721e-ee45-40c9-bc41-565a4170618c"
      },
      "execution_count": null,
      "outputs": [
        {
          "output_type": "stream",
          "name": "stdout",
          "text": [
            "        Destination  Month  Duration (days) Traveler gender  \\\n",
            "0        London, UK    5.0              7.0            Male   \n",
            "1  Phuket, Thailand    6.0              5.0          Female   \n",
            "2   Bali, Indonesia    7.0              7.0            Male   \n",
            "3     New York, USA    8.0             14.0          Female   \n",
            "5     Paris, France   10.0              5.0            Male   \n",
            "\n",
            "  Traveler nationality Accommodation type  Accommodation cost  \\\n",
            "0             American              Hotel              1200.0   \n",
            "1             Canadian             Resort               800.0   \n",
            "2               Korean              Villa              1000.0   \n",
            "3              British              Hotel              2000.0   \n",
            "5             American              Hotel              1500.0   \n",
            "\n",
            "   Transportation cost  \n",
            "0                600.0  \n",
            "1                500.0  \n",
            "2                700.0  \n",
            "3               1000.0  \n",
            "5                800.0  \n"
          ]
        }
      ]
    },
    {
      "cell_type": "markdown",
      "source": [
        "\"\"\"\n",
        "Módulo base_conocimiento.py\n",
        "===========================\n",
        "Este módulo contiene la implementación de la Base de Conocimientos del sistema basado en conocimientos (KBS).\n",
        "Se encarga de almacenar y aplicar reglas de recomendación de destinos en función de criterios como presupuesto,\n",
        "duración del viaje, mes de viaje y preferencias de hospedaje.\n",
        "\n",
        "\n",
        "Método de Similitud Utilizado:\n",
        "------------------------------\n",
        "Este sistema utiliza **similitud de coseno** para recomendar destinos de viaje.\n",
        "Matemáticamente, la similitud de coseno se define como:\n",
        "\n",
        "    similarity(A, B) = (A ⋅ B) / (||A|| ||B||)\n",
        "\n",
        "Donde:\n",
        "- **A** es el vector de entrada del usuario con atributos normalizados (`presupuesto`, `duración promedio`, `mes`).\n",
        "- **B** es cada destino en el dataset, también normalizado.\n",
        "- **A ⋅ B** es el producto punto de los vectores.\n",
        "- **||A||** y **||B||** son las normas euclidianas de los vectores.\n",
        "\n",
        "Este método mide qué tan similares son dos puntos en el espacio, considerando solo la dirección y no la magnitud.\n",
        "En este caso, en lugar de realizar un filtrado estricto, el sistema encuentra los destinos más similares al perfil\n",
        " del usuario en términos de costos, duración y fecha del viaje.\n",
        "\"\"\""
      ],
      "metadata": {
        "id": "7Q5wcJCCe2CO"
      }
    },
    {
      "cell_type": "code",
      "source": [
        "import pandas as pd\n",
        "from sklearn.metrics.pairwise import cosine_similarity\n",
        "from sklearn.preprocessing import MinMaxScaler\n",
        "import numpy as np\n",
        "\n",
        "class BaseConocimiento:\n",
        "    \"\"\"\n",
        "    Clase que representa la Base de Conocimientos del sistema.\n",
        "    Permite recomendar destinos similares a los criterios ingresados por el usuario\n",
        "    en base a una métrica de similitud en vez de aplicar reglas estrictas.\n",
        "    \"\"\"\n",
        "\n",
        "    def __init__(self, travel_data):\n",
        "        \"\"\"\n",
        "        Inicializa la base de conocimientos con el dataset de viajes.\n",
        "\n",
        "        Parámetros:\n",
        "        - travel_data (DataFrame): DataFrame de pandas con la información de viajes.\n",
        "        \"\"\"\n",
        "        self.travel_data = travel_data.copy()\n",
        "\n",
        "        # Calculamos el costo total del viaje sumando alojamiento y transporte\n",
        "        self.travel_data[\"Total cost\"] = (\n",
        "            self.travel_data[\"Accommodation cost\"] + self.travel_data[\"Transportation cost\"]\n",
        "        )\n",
        "\n",
        "        # Normalizamos los datos numéricos para compararlos adecuadamente\n",
        "        self.scaler = MinMaxScaler()\n",
        "        self.normalized_data = self.scaler.fit_transform(\n",
        "            self.travel_data[[\"Total cost\", \"Duration (days)\", \"Month\"]]\n",
        "        )\n",
        "\n",
        "    def calcular_similitud(self, presupuesto, duracion_min, duracion_max, mes):\n",
        "        \"\"\"\n",
        "        Calcula la similitud entre los destinos en el dataset y la entrada del usuario\n",
        "        usando la distancia de coseno.\n",
        "        \"\"\"\n",
        "        # Promediamos la duración mínima y máxima del usuario para calcular similitud\n",
        "        user_input = np.array([[presupuesto, (duracion_min + duracion_max) / 2, mes]])\n",
        "        user_input_scaled = self.scaler.transform(user_input)\n",
        "\n",
        "        # Calculamos la similitud entre la entrada del usuario y los datos normalizados\n",
        "        similitudes = cosine_similarity(user_input_scaled, self.normalized_data)[0]\n",
        "\n",
        "        return similitudes\n",
        "\n",
        "    def recomendar_destinos(self, presupuesto, duracion_min, duracion_max, mes, tipo_hospedaje=None):\n",
        "        \"\"\"\n",
        "        Recomienda destinos similares a las preferencias del usuario usando distancia de coseno.\n",
        "\n",
        "        Parámetros:\n",
        "        - presupuesto (float): Presupuesto máximo del usuario.\n",
        "        - duracion_min (int): Duración mínima del viaje en días.\n",
        "        - duracion_max (int): Duración máxima del viaje en días.\n",
        "        - mes (int): Mes en el que el usuario desea viajar (1-12).\n",
        "        - tipo_hospedaje (str, opcional): Tipo de hospedaje preferido por el usuario.\n",
        "\n",
        "        Retorna:\n",
        "        - DataFrame con los destinos recomendados y su nivel de similitud con las preferencias del usuario.\n",
        "        \"\"\"\n",
        "        # Obtenemos las similitudes para cada destino\n",
        "        self.travel_data[\"Similarity\"] = self.calcular_similitud(presupuesto, duracion_min, duracion_max, mes)\n",
        "\n",
        "        # Filtrar destinos que no excedan el presupuesto del usuario\n",
        "        destinos_filtrados = self.travel_data[self.travel_data[\"Total cost\"] <= presupuesto]\n",
        "\n",
        "        # Ordenamos los destinos según la similitud calculada\n",
        "        destinos_recomendados = destinos_filtrados.sort_values(by=\"Similarity\", ascending=False)\n",
        "\n",
        "        # Si el usuario tiene una preferencia de hospedaje, filtramos los resultados\n",
        "        if tipo_hospedaje:\n",
        "            destinos_recomendados = destinos_recomendados[destinos_recomendados[\"Accommodation type\"] == tipo_hospedaje]\n",
        "\n",
        "        return destinos_recomendados[[\"Destination\", \"Total cost\", \"Duration (days)\", \"Accommodation type\", \"Similarity\"]].head(6)"
      ],
      "metadata": {
        "id": "PYrY_WXBe2t3"
      },
      "execution_count": null,
      "outputs": []
    },
    {
      "cell_type": "markdown",
      "source": [
        "\"\"\"\n",
        "Módulo base_hechos.py\n",
        "===========================\n",
        "Este módulo maneja la Base de Hechos del sistema basado en conocimientos (KBS).\n",
        "Almacena los datos ingresados por los usuarios, como presupuesto, preferencias y fechas de viaje.\n",
        "\"\"\""
      ],
      "metadata": {
        "id": "NIxSZZ_Ue_Id"
      }
    },
    {
      "cell_type": "code",
      "source": [
        "class BaseHechos:\n",
        "    \"\"\"\n",
        "    Clase que representa la Base de Hechos del sistema.\n",
        "    Almacena la información del usuario para personalizar las recomendaciones.\n",
        "    \"\"\"\n",
        "\n",
        "    def __init__(self):\n",
        "        \"\"\"\n",
        "        Inicializa la base de hechos con datos vacíos.\n",
        "        \"\"\"\n",
        "        self.hechos = {}\n",
        "\n",
        "    def ingresar_datos_usuario(self):\n",
        "        \"\"\"\n",
        "        Solicita y almacena interactivamente los datos ingresados por el usuario.\n",
        "        \"\"\"\n",
        "        self.hechos[\"presupuesto\"] = float(input(\"Ingrese su presupuesto en USD: \"))\n",
        "        self.hechos[\"duracion_min\"] = int(input(\"Ingrese la duración mínima del viaje en días: \"))\n",
        "        self.hechos[\"duracion_max\"] = int(input(\"Ingrese la duración máxima del viaje en días: \"))\n",
        "        self.hechos[\"mes\"] = int(input(\"Ingrese el mes en el que desea viajar (1-12): \"))\n",
        "        self.hechos[\"tipo_hospedaje\"] = input(\"Ingrese el tipo de hospedaje deseado (Hotel, Resort, Villa, Airbnb) o deje en blanco para cualquier: \")\n",
        "        if not self.hechos[\"tipo_hospedaje\"]:\n",
        "            self.hechos[\"tipo_hospedaje\"] = None\n",
        "\n",
        "    def obtener_datos_usuario(self):\n",
        "        \"\"\"\n",
        "        Retorna los datos almacenados del usuario.\n",
        "        \"\"\"\n",
        "        return self.hechos"
      ],
      "metadata": {
        "id": "bPJu-17PfAf4"
      },
      "execution_count": null,
      "outputs": []
    },
    {
      "cell_type": "markdown",
      "source": [
        "\"\"\"\n",
        "Módulo motor_inferencia.py\n",
        "===========================\n",
        "Este módulo implementa el Motor de Inferencia del sistema basado en conocimientos (KBS).\n",
        "Se encarga de aplicar las reglas y obtener recomendaciones personalizadas.\n",
        "\"\"\""
      ],
      "metadata": {
        "id": "tgsxwGvifDBE"
      }
    },
    {
      "cell_type": "code",
      "source": [
        "class MotorInferencia:\n",
        "    \"\"\"\n",
        "    Clase que representa el Motor de Inferencia del sistema.\n",
        "    Integra la Base de Hechos con la Base de Conocimientos para generar recomendaciones.\n",
        "    \"\"\"\n",
        "\n",
        "    def __init__(self, base_conocimiento, base_hechos):\n",
        "        \"\"\"\n",
        "        Inicializa el motor de inferencia con las bases de conocimiento y hechos.\n",
        "        \"\"\"\n",
        "        self.base_conocimiento = base_conocimiento\n",
        "        self.base_hechos = base_hechos\n",
        "\n",
        "    def generar_recomendaciones(self):\n",
        "        \"\"\"\n",
        "        Genera recomendaciones de viaje basadas en los datos del usuario.\n",
        "        Muestra únicamente los 6 destinos más recomendados.\n",
        "\n",
        "        Retorna:\n",
        "        - DataFrame con los 6 mejores destinos según la similitud.\n",
        "        \"\"\"\n",
        "        datos_usuario = self.base_hechos.obtener_datos_usuario()\n",
        "        recomendaciones = self.base_conocimiento.recomendar_destinos(\n",
        "            datos_usuario[\"presupuesto\"],\n",
        "            datos_usuario[\"duracion_min\"],\n",
        "            datos_usuario[\"duracion_max\"],\n",
        "            datos_usuario[\"mes\"],\n",
        "            datos_usuario[\"tipo_hospedaje\"]\n",
        "        )\n",
        "\n",
        "        return recomendaciones.head(6)"
      ],
      "metadata": {
        "id": "GNW-WFnxfEdo"
      },
      "execution_count": null,
      "outputs": []
    },
    {
      "cell_type": "markdown",
      "source": [
        "\"\"\"\n",
        "Módulo main.py\n",
        "===============================================\n",
        "Este módulo proporciona un script de prueba para ejecutar el sistema completo.\n",
        "\"\"\""
      ],
      "metadata": {
        "id": "6YQi8augfHJR"
      }
    },
    {
      "cell_type": "code",
      "source": [
        "if __name__ == \"__main__\":\n",
        "    import pandas as pd\n",
        "\n",
        "    # Cargar el dataset\n",
        "    file_path = \"cleaned_travel_dataset.csv\"  # Asegúrate de subirlo en Colab\n",
        "    travel_data = pd.read_csv(file_path)\n",
        "\n",
        "    # Instanciar bases de datos\n",
        "    base_conocimiento = BaseConocimiento(travel_data)\n",
        "    base_hechos = BaseHechos()\n",
        "\n",
        "    # Ingresar datos del usuario de forma interactiva\n",
        "    base_hechos.ingresar_datos_usuario()\n",
        "\n",
        "    # Instanciar motor de inferencia\n",
        "    motor = MotorInferencia(base_conocimiento, base_hechos)\n",
        "\n",
        "    # Obtener recomendaciones\n",
        "    recomendaciones = motor.generar_recomendaciones()\n",
        "    print(\"\\nRecomendaciones de viaje:\")\n",
        "    print(recomendaciones)"
      ],
      "metadata": {
        "colab": {
          "base_uri": "https://localhost:8080/"
        },
        "id": "5sEauKSDfJMq",
        "outputId": "d97ed46f-329e-422b-d930-80c501a92a5c"
      },
      "execution_count": null,
      "outputs": [
        {
          "output_type": "stream",
          "name": "stdout",
          "text": [
            "Ingrese su presupuesto en USD: 6000\n",
            "Ingrese la duración mínima del viaje en días: 5\n",
            "Ingrese la duración máxima del viaje en días: 12\n",
            "Ingrese el mes en el que desea viajar (1-12): 8\n",
            "Ingrese el tipo de hospedaje deseado (Hotel, Resort, Villa, etc.) o deje en blanco para cualquier: Airbnb\n",
            "\n",
            "Recomendaciones de viaje:\n",
            "               Destination  Total cost  Duration (days) Accommodation type  \\\n",
            "67             Sydney, Aus      1900.0             10.0             Airbnb   \n",
            "65          Athens, Greece      1600.0             10.0             Airbnb   \n",
            "19                  Greece      1000.0              8.0             Airbnb   \n",
            "62             Sydney, Aus      1800.0             11.0             Airbnb   \n",
            "54               Cape Town      2000.0              8.0             Airbnb   \n",
            "6   Rio de Janeiro, Brazil      1500.0              7.0             Airbnb   \n",
            "\n",
            "    Similarity  \n",
            "67    0.874300  \n",
            "65    0.864170  \n",
            "19    0.824689  \n",
            "62    0.785528  \n",
            "54    0.622204  \n",
            "6     0.619819  \n"
          ]
        },
        {
          "output_type": "stream",
          "name": "stderr",
          "text": [
            "/usr/local/lib/python3.11/dist-packages/sklearn/utils/validation.py:2739: UserWarning: X does not have valid feature names, but MinMaxScaler was fitted with feature names\n",
            "  warnings.warn(\n"
          ]
        }
      ]
    }
  ]
}